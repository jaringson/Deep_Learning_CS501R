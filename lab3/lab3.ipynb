{
 "cells": [
  {
   "cell_type": "code",
   "execution_count": 31,
   "metadata": {},
   "outputs": [
    {
     "name": "stdout",
     "output_type": "stream",
     "text": [
      "(1000, 10)\n",
      "(1000, 1)\n",
      "(1, 1000)\n",
      "(1, 1000)\n"
     ]
    }
   ],
   "source": [
    "# =============================================\n",
    "#\n",
    "# load cifar-10-small and project down\n",
    "#\n",
    " \n",
    "import numpy as np\n",
    "    \n",
    "def unpickle( file ):\n",
    "    import cPickle\n",
    "    fo = open(file, 'rb')\n",
    "    dict = cPickle.load(fo)\n",
    "    fo.close()\n",
    "    return dict\n",
    " \n",
    "data = unpickle( 'cifar-10-batches-py/data_batch_1' )\n",
    " \n",
    "features = data['data']\n",
    "labels = data['labels']\n",
    "labels = np.atleast_2d( labels ).T\n",
    " \n",
    "N = 1000\n",
    "D = 10\n",
    " \n",
    "# only keep N items\n",
    "features = features[ 0:N, : ] \n",
    "labels = labels[ 0:N, : ]\n",
    " \n",
    "# project down into a D-dimensional space\n",
    "features = np.dot( features, np.random.randn( 3072, D) )\n",
    " \n",
    "# whiten our data - zero mean and unit standard deviation\n",
    "features = (features - np.mean(features, axis=0)) / np.std(features, axis=0)\n",
    "\n",
    "print features.shape\n",
    "print labels.shape\n",
    "\n",
    "W = np.random.randn(1,features.shape[1])\n",
    "\n",
    "\n",
    "NUM_EPOCHS = 1000\n",
    "step_size = 0.1\n",
    "\n",
    "def loss_function(W):\n",
    "    e =W\n",
    "    \n",
    "    \n",
    "\n",
    "def numerical_gradient(loss_function,W):\n",
    "    loss_return = loss_function()\n",
    "    epsilon = 0.0001\n",
    "    for i in range(1000-1):\n",
    "        print i\n",
    "        \n",
    "    return loss_return, l \n",
    "        \n",
    "\n",
    "for i in range(NUM_EPOCHS):\n",
    "    \n",
    "    scores = W.dot(features.T)\n",
    "    scores -= np.max(scores, axis=0)\n",
    "    scores = np.exp(scores)\n",
    "    print scores.shape\n",
    "    scores = scores / np.sum(scores, axis=0)\n",
    "    print scores.shape\n",
    "    loss = -np.log(scores)\n",
    "    break\n",
    "\n",
    "        \n",
    "    \n",
    "#     loss_function_value, grad = numerical_gradient( loss_function, W )\n",
    "#     W = W - step_size * grad\n",
    "    "
   ]
  },
  {
   "cell_type": "code",
   "execution_count": null,
   "metadata": {
    "collapsed": true
   },
   "outputs": [],
   "source": [
    "\n"
   ]
  }
 ],
 "metadata": {
  "kernelspec": {
   "display_name": "Python 2",
   "language": "python",
   "name": "python2"
  },
  "language_info": {
   "codemirror_mode": {
    "name": "ipython",
    "version": 2
   },
   "file_extension": ".py",
   "mimetype": "text/x-python",
   "name": "python",
   "nbconvert_exporter": "python",
   "pygments_lexer": "ipython2",
   "version": "2.7.12"
  }
 },
 "nbformat": 4,
 "nbformat_minor": 2
}
