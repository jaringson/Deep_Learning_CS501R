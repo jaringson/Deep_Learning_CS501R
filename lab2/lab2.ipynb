{
 "cells": [
  {
   "cell_type": "code",
   "execution_count": 81,
   "metadata": {},
   "outputs": [
    {
     "name": "stdout",
     "output_type": "stream",
     "text": [
      "(1, 5)\n",
      "(150, 5)\n",
      "()\n",
      "[ 0.  0.  0.  0.  0.  0.  0.  0.  0.  0.  0.  0.  0.  0.  0.  0.  0.  0.\n",
      "  0.  0.  0.  0.  0.  0.  0.  0.  0.  0.  0.  0.  0.  0.  0.  0.  0.  0.\n",
      "  0.  0.  0.  0.  0.  0.  0.  0.  0.  0.  0.  0.  0.  0.  0.  0.  0.  0.\n",
      "  0.  0.  0.  0.  0.  0.  0.  0.  0.  0.  0.  0.  0.  0.  0.  0.  0.  0.\n",
      "  0.  0.  0.  0.  0.  0.  0.  0.  0.  0.  0.  0.  0.  0.  0.  0.  0.  0.\n",
      "  0.  0.  0.  0.  0.  0.  0.  0.  0.  0.  0.  0.  0.  0.  0.  0.  0.  0.\n",
      "  0.  0.  0.  0.  0.  0.  0.  0.  0.  0.  0.  0.  0.  0.  0.  0.  0.  0.\n",
      "  0.  0.  0.  0.  0.  0.  0.  0.  0.  0.  0.  0.  0.  0.  0.  0.  0.  0.\n",
      "  0.  0.  0.  0.  0.  0.]\n",
      "[  30000.  210000.  495000.  750000.   15000.]\n"
     ]
    }
   ],
   "source": [
    "import pandas\n",
    "import numpy as np\n",
    "\n",
    "data = pandas.read_csv( 'Fisher.csv' )\n",
    "m = data.as_matrix()\n",
    "labels = m[:,0]\n",
    "labels[ labels==2 ] = 1  # squash class 2 into class 1\n",
    "labels = np.atleast_2d( labels ).T\n",
    "features = m[:,1:5]\n",
    "\n",
    "temp = np.vstack([features.T, np.ones(150)])\n",
    "features = temp.T\n",
    "\n",
    "c = 1\n",
    "\n",
    "\n",
    "# w = np.random.normal(0, .001, (1,5))\n",
    "w = np.zeros((1,5))\n",
    "\n",
    "# print w[1].shape\n",
    "# y = []\n",
    "# for j in range(features.shape[0]):\n",
    "#     y = w[j].T.dot(features[j].T)\n",
    "#     for i in range(features.shape[1]):\n",
    "#         w[j][i] = w[j][i] + c*(labels[i]-y)*features[j][i]\n",
    "\n",
    "# y=np.array(y)\n",
    "\n",
    "print w.shape\n",
    "print features.shape\n",
    "print y.shape\n",
    "    \n",
    "z = np.sign(w.dot(features.T))\n",
    "# z = [0 if v2 < 0 else v2 for v1 in z for v2 in v1]\n",
    "z = [0 if v < 0 else v for v in z[0]]\n",
    "z = np.array(z)\n",
    "print z\n",
    "\n",
    "# z.reshape((150,150))\n",
    "\n",
    "for _ in range (150):\n",
    "    for j in range(len(labels)):\n",
    "        for i in range(len(w)):\n",
    "#             print labels[j][0],z[j],features[i],w[i]\n",
    "            constant = c*(labels[j][0]-z[j])\n",
    "#             print w[i] +  constant*features[i]\n",
    "            w[i] = list(w[i] +  constant*features[i])\n",
    "        \n",
    "print w[i]"
   ]
  },
  {
   "cell_type": "code",
   "execution_count": 77,
   "metadata": {},
   "outputs": [],
   "source": [
    "def unpickle( file ):\n",
    "    import cPickle\n",
    "    fo = open(file, 'rb')\n",
    "    dict = cPickle.load(fo)\n",
    "    fo.close()\n",
    "    return dict\n",
    " \n",
    "data = unpickle( 'cifar-10-batches-py/data_batch_1' )\n",
    " \n",
    "features = data['data']\n",
    "labels = data['labels']\n",
    "labels = np.atleast_2d( labels ).T\n",
    " \n",
    "# squash classes 0-4 into class 0, and squash classes 5-9 into class 1\n",
    "labels[ labels < 5 ] = 0\n",
    "labels[ labels >= 5 ] = 1"
   ]
  },
  {
   "cell_type": "code",
   "execution_count": null,
   "metadata": {
    "collapsed": true
   },
   "outputs": [],
   "source": []
  }
 ],
 "metadata": {
  "kernelspec": {
   "display_name": "Python 2",
   "language": "python",
   "name": "python2"
  },
  "language_info": {
   "codemirror_mode": {
    "name": "ipython",
    "version": 2
   },
   "file_extension": ".py",
   "mimetype": "text/x-python",
   "name": "python",
   "nbconvert_exporter": "python",
   "pygments_lexer": "ipython2",
   "version": "2.7.12"
  }
 },
 "nbformat": 4,
 "nbformat_minor": 2
}
