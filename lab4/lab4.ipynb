{
 "cells": [
  {
   "cell_type": "code",
   "execution_count": 17,
   "metadata": {},
   "outputs": [],
   "source": [
    "import numpy as np\n",
    "import tensorflow as tf\n",
    "\n",
    "\n",
    "with tf.name_scope(\"generator\") as scope:\n",
    "\n",
    "    x = tf.Variable(tf.random_uniform([1,100], -10, 10, dtype=tf.float32), name = \"x\")\n",
    "    noise = tf.Variable(tf.random_uniform([1,100], -1, 1, dtype=tf.float32) ,name=\"noise\")\n",
    "\n",
    "\n",
    "    noisy_line = tf.add(tf.add(tf.multiply( -6.7, x), 2.0), noise, name=\"noisy_line\")\n",
    "\n",
    "\n",
    "\n",
    "with tf.Session() as sess:\n",
    "\n",
    "    sess.run(tf.global_variables_initializer())\n",
    "\n",
    "    writer = tf.summary.FileWriter(\"./tf_logs\", sess.graph)\n",
    "    writer.close()\n",
    "    \n",
    "\n"
   ]
  },
  {
   "cell_type": "code",
   "execution_count": null,
   "metadata": {
    "collapsed": true
   },
   "outputs": [],
   "source": []
  }
 ],
 "metadata": {
  "kernelspec": {
   "display_name": "Python 2",
   "language": "python",
   "name": "python2"
  },
  "language_info": {
   "codemirror_mode": {
    "name": "ipython",
    "version": 2
   },
   "file_extension": ".py",
   "mimetype": "text/x-python",
   "name": "python",
   "nbconvert_exporter": "python",
   "pygments_lexer": "ipython2",
   "version": "2.7.12"
  }
 },
 "nbformat": 4,
 "nbformat_minor": 2
}
