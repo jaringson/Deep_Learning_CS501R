{
 "cells": [
  {
   "cell_type": "code",
   "execution_count": 92,
   "metadata": {},
   "outputs": [
    {
     "name": "stdout",
     "output_type": "stream",
     "text": [
      "I guess the line is: y = -6.70064878464*x + 1.93553447723\n"
     ]
    }
   ],
   "source": [
    "#Task 2\n",
    "\n",
    "import numpy as np\n",
    "import tensorflow as tf\n",
    "\n",
    "tf.reset_default_graph()\n",
    "\n",
    "steps = 1000\n",
    "\n",
    "with tf.name_scope(\"generator\") as scope:\n",
    "    \n",
    "    x_hat = tf.Variable(tf.random_uniform([2,steps], -10, 10, dtype=tf.float32), name = \"x\")\n",
    "    noise_hat = tf.Variable(tf.random_uniform([1,steps], -1, 1, dtype=tf.float32) ,name=\"noise\")\n",
    "    noisy_line = tf.add(tf.add(tf.multiply( -6.7, x_hat), 2.0), noise_hat, name=\"noisy_line\")\n",
    "\n",
    "\n",
    "m = tf.Variable([.1] , name=\"m\")\n",
    "b = tf.Variable([.1] , name=\"b\")\n",
    "\n",
    "    \n",
    "with tf.name_scope(\"estimator\") as scope:\n",
    "    target = tf.placeholder(tf.float32, [1] , name=\"target\")\n",
    "    reference = tf.placeholder(tf.float32, [1], name=\"reference\" )\n",
    "    \n",
    "    net = tf.add(tf.multiply(m,target),b)\n",
    "    delta = tf.multiply(0.005,tf.subtract(reference, net), name=\"delta\")\n",
    "    \n",
    "    assign_slope = m.assign(tf.add(m, tf.multiply(delta, target)))\n",
    "    assign_bias = b.assign(tf.add(b, delta))\n",
    "    \n",
    "\n",
    "    \n",
    "    \n",
    "    \n",
    "with tf.Session() as sess:\n",
    "\n",
    "    sess.run(tf.global_variables_initializer())\n",
    "    x,data = sess.run([x_hat, noisy_line])\n",
    "#     print x,data\n",
    "    m_ret = 0\n",
    "    b_ret = 0\n",
    "    \n",
    "    for i in range(steps):\n",
    "        m_ret, b_ret = sess.run([assign_slope,assign_bias],{target:[x[0][i]], reference:[data[0][i]]})\n",
    "        \n",
    "    print(\"I guess the line is: y = {}*x + {}\".format(m_ret[0],b_ret[0]))\n",
    "\n",
    "    writer = tf.summary.FileWriter(\"./tf_logs\", sess.graph)\n",
    "    writer.close()\n",
    "    "
   ]
  },
  {
   "cell_type": "code",
   "execution_count": 93,
   "metadata": {},
   "outputs": [
    {
     "name": "stdout",
     "output_type": "stream",
     "text": [
      "I guess beta is: [[-2.30071402  4.54727173  9.31478596]]\n"
     ]
    }
   ],
   "source": [
    "#Task 3\n",
    "\n",
    "import numpy as np\n",
    "import tensorflow as tf\n",
    "\n",
    "tf.reset_default_graph()\n",
    "\n",
    "steps = 1000\n",
    "\n",
    "with tf.name_scope(\"generator\") as scope:\n",
    "\n",
    "    beta_t = tf.Variable([[-2.3, 4.5, 9.4]])\n",
    "    \n",
    "    x_hat = tf.Variable(tf.random_uniform([2,steps], -10, 10, dtype=tf.float32), name = \"x\")\n",
    "    x2_hat = tf.concat([x_hat, tf.ones([1, steps], tf.float32)],0)\n",
    "    \n",
    "    noise_hat = tf.Variable(tf.random_uniform([1,steps], -1, 1, dtype=tf.float32) ,name=\"noise\")\n",
    "\n",
    "    noisy_line = tf.add(tf.matmul(beta_t, x2_hat), noise_hat, name=\"noisy_line\")\n",
    "\n",
    "\n",
    "beta = tf.Variable(tf.zeros([1,3] , dtype=tf.float32,  name=\"beta\"))\n",
    "\n",
    "    \n",
    "with tf.name_scope(\"estimator\") as scope:\n",
    "    target = tf.placeholder(tf.float32, [1,3] , name=\"target\")\n",
    "    reference = tf.placeholder(tf.float32, [1,1], name=\"reference\" )\n",
    "    \n",
    "    net = tf.matmul(target, beta,transpose_b=True)\n",
    "    delta = tf.multiply(tf.multiply(0.005,tf.subtract(reference, net)),target, name=\"delta\")\n",
    "    \n",
    "    assign_beta = beta.assign(tf.add(beta, delta))\n",
    "    \n",
    "    \n",
    "with tf.Session() as sess:\n",
    "\n",
    "    sess.run(tf.global_variables_initializer())\n",
    "    x,data = sess.run([x2_hat, noisy_line])\n",
    "\n",
    "    beta_ret = []\n",
    "    \n",
    "    for i in range(steps):\n",
    "        beta_ret,te = sess.run([beta,assign_beta],{target:[[x[0][i],x[1][i],x[2][i]]], reference:[[data[0][i]]]})\n",
    "\n",
    "    print(\"I guess beta is: {}\".format(beta_ret))\n",
    "\n",
    "    writer = tf.summary.FileWriter(\"./tf_logs\", sess.graph)\n",
    "    writer.close()\n",
    "    \n",
    "\n"
   ]
  },
  {
   "cell_type": "code",
   "execution_count": 98,
   "metadata": {},
   "outputs": [
    {
     "name": "stdout",
     "output_type": "stream",
     "text": [
      "-1.599378\n",
      "I guess beta is: [[-2.32403374  4.49833059  9.31786919]]\n"
     ]
    }
   ],
   "source": [
    "#Task 4\n",
    "\n",
    "import numpy as np\n",
    "import pandas as pd\n",
    "import tensorflow as tf\n",
    "\n",
    "tf.reset_default_graph()\n",
    "\n",
    "steps = 1000\n",
    "\n",
    "with tf.name_scope(\"generator\") as scope:\n",
    "    \n",
    "    df = pd.read_csv('foo.csv')\n",
    "    print df['x2'][0]\n",
    "\n",
    "    beta_t = tf.Variable([[-2.3, 4.5, 9.4]])\n",
    "    \n",
    "    x_hat = tf.Variable(tf.random_uniform([2,steps], -10, 10, dtype=tf.float32), name = \"x\")\n",
    "    x2_hat = tf.concat([x_hat, tf.ones([1, steps], tf.float32)],0)\n",
    "    \n",
    "    noise_hat = tf.Variable(tf.random_uniform([1,steps], -1, 1, dtype=tf.float32) ,name=\"noise\")\n",
    "\n",
    "    noisy_line = tf.add(tf.matmul(beta_t, x2_hat), noise_hat, name=\"noisy_line\")\n",
    "\n",
    "\n",
    "beta = tf.Variable(tf.zeros([1,3] , dtype=tf.float32,  name=\"beta\"))\n",
    "\n",
    "    \n",
    "with tf.name_scope(\"estimator\") as scope:\n",
    "    target = tf.placeholder(tf.float32, [1,3] , name=\"target\")\n",
    "    reference = tf.placeholder(tf.float32, [1,1], name=\"reference\" )\n",
    "    \n",
    "    net = tf.matmul(target, beta,transpose_b=True)\n",
    "    delta = tf.multiply(tf.multiply(0.005,tf.subtract(reference, net)),target, name=\"delta\")\n",
    "    \n",
    "    assign_beta = beta.assign(tf.add(beta, delta))\n",
    "    \n",
    "    \n",
    "with tf.Session() as sess:\n",
    "\n",
    "    sess.run(tf.global_variables_initializer())\n",
    "    x,data = sess.run([x2_hat, noisy_line])\n",
    "\n",
    "    beta_ret = []\n",
    "    \n",
    "    for i in range(steps):\n",
    "        beta_ret,te = sess.run([beta,assign_beta],{target:[[x[0][i],x[1][i],x[2][i]]], reference:[[data[0][i]]]})\n",
    "\n",
    "    print(\"I guess beta is: {}\".format(beta_ret))\n",
    "\n",
    "    writer = tf.summary.FileWriter(\"./tf_logs\", sess.graph)\n",
    "    writer.close()\n",
    "    \n"
   ]
  },
  {
   "cell_type": "code",
   "execution_count": null,
   "metadata": {
    "collapsed": true
   },
   "outputs": [],
   "source": []
  }
 ],
 "metadata": {
  "kernelspec": {
   "display_name": "Python 2",
   "language": "python",
   "name": "python2"
  },
  "language_info": {
   "codemirror_mode": {
    "name": "ipython",
    "version": 2
   },
   "file_extension": ".py",
   "mimetype": "text/x-python",
   "name": "python",
   "nbconvert_exporter": "python",
   "pygments_lexer": "ipython2",
   "version": "2.7.12"
  }
 },
 "nbformat": 4,
 "nbformat_minor": 2
}
